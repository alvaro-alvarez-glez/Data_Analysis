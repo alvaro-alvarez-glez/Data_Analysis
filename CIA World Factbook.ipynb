{
 "cells": [
  {
   "cell_type": "markdown",
   "metadata": {},
   "source": [
    "# CIA World Factbook\n",
    "En este projecto se trabajo con datos de CIA World Factbook los cuales pueden descargarse del siguiente [link](#https://dsserver-prod-resources-1.s3.amazonaws.com/257/factbook.db), el cual compila estadísticas de todos los países en el mundo. El Factbook contiene información demográfica de:\n",
    "* population - La población al 2015.\n",
    "* population_growth - El índice anual de crecimiento poblacional como porcentaje.\n",
    "* area - El total de tierra y agua."
   ]
  },
  {
   "cell_type": "code",
   "execution_count": null,
   "metadata": {},
   "outputs": [],
   "source": [
    "%%capture #Se conecta y carga la base de datos\n",
    "%load_ext sql\n",
    "%sql sqlite:///factbook.db"
   ]
  },
  {
   "cell_type": "markdown",
   "metadata": {},
   "source": [
    "### Muestra de tabla"
   ]
  },
  {
   "cell_type": "code",
   "execution_count": null,
   "metadata": {},
   "outputs": [],
   "source": [
    "%%sql\n",
    "SELECT *\n",
    "  FROM facts\n",
    " LIMIT 5;"
   ]
  },
  {
   "cell_type": "markdown",
   "metadata": {},
   "source": [
    "Esta es la descripción de algunas de las columnas:\n",
    "\n",
    "* name - Nombre del país.\n",
    "* area - El total de tierra y mar del país.\n",
    "* population - La población del país.\n",
    "* population_growth- El crecimiento poblacional como porcentaje.\n",
    "* birth_rate - El índice de naminientos del país, o número de nacimientos al año por cada 1000 personas.\n",
    "* death_rate - El índice de defunciones del país, o número de defunciones al año por cada 1000 personas.\n",
    "* area- El área total del país (ambos tierra y mar).\n",
    "* area_land - El área de tierra del país en kilometros cuadrados.\n",
    "* area_water - El área maritima del país en kilometros cuadrados.\n",
    "\n",
    "Se calcularon las estadísticas básicas en busqueda de algún outlier en la información de los países."
   ]
  },
  {
   "cell_type": "code",
   "execution_count": null,
   "metadata": {},
   "outputs": [],
   "source": [
    "%%sql\n",
    "SELECT MIN(population), MAX(population), MIN(population_growth), MAX(population_growth)\n",
    "  FROM facts;"
   ]
  },
  {
   "cell_type": "markdown",
   "metadata": {},
   "source": [
    "Se detectó que hay un país cuya población es de 0 y que hay un país con una población mayor de (700 millones), para esto se procedió a identificar los países a quienes les pertenece esta información."
   ]
  },
  {
   "cell_type": "code",
   "execution_count": null,
   "metadata": {},
   "outputs": [],
   "source": [
    "%%sql\n",
    "SELECT name País, population Población\n",
    "  FROM facts\n",
    " WHERE population==(SELECT MIN(population)\n",
    "                      FROM facts)\n",
    "    OR population==(SELECT MAX(population)\n",
    "                      FROM facts);"
   ]
  },
  {
   "cell_type": "markdown",
   "metadata": {},
   "source": [
    "Se halló que la información de la población de más de 700 millones del registro del mundo para lo cual se descartará en los siguientes análisis y con respecto a la población de 0 habitantes se puede revisar la información referente sobre el país en el siguiente [Link](#https://www.cia.gov/library/publications/the-world-factbook/geos/ay.html)"
   ]
  },
  {
   "cell_type": "markdown",
   "metadata": {},
   "source": [
    "Se calcularon las estadísticas realizadas anteriormente, esta vez excluyendo la información perteneciente a la celda *World*."
   ]
  },
  {
   "cell_type": "code",
   "execution_count": null,
   "metadata": {},
   "outputs": [],
   "source": [
    "%%sql\n",
    "SELECT MIN(population), MAX(population), MIN(population_growth), MAX(population_growth)\n",
    "  FROM facts\n",
    " WHERE name <> 'World';"
   ]
  },
  {
   "cell_type": "markdown",
   "metadata": {},
   "source": [
    "Se realizó el cálculo de los promedios de *población* y *área*"
   ]
  },
  {
   "cell_type": "code",
   "execution_count": null,
   "metadata": {},
   "outputs": [],
   "source": [
    "%%sql\n",
    "SELECT ROUND(AVG(population)) Promedio_Poblacion, ROUND(AVG(area),2) Promedio_area\n",
    "  FROM facts\n",
    " WHERE name <> 'World';"
   ]
  },
  {
   "cell_type": "markdown",
   "metadata": {},
   "source": [
    "## Población\n",
    "\n",
    "Se desea conocer los países con una mayor densidad de población en promedio. Por lo que se idenficaran los países que se encuentran:\n",
    "* Por arriba del promedio de población.\n",
    "* Debajo del promedio de área."
   ]
  },
  {
   "cell_type": "code",
   "execution_count": null,
   "metadata": {},
   "outputs": [],
   "source": [
    "%%sql\n",
    "SELECT name País, population Población, area \"Territorio $km^2$\"\n",
    "  FROM facts\n",
    " WHERE population>(SELECT AVG(population)\n",
    "                      FROM facts\n",
    "                    WHERE name<>'Wolrd')\n",
    "    AND \"Territorio $km^2$\"< (SELECT AVG(area)\n",
    "                      FROM facts\n",
    "                WHERE name<> 'World') "
   ]
  },
  {
   "cell_type": "markdown",
   "metadata": {},
   "source": [
    "Se halló que los paises con mayor cantidad de población sobre área provienen del continente Europeo en el caso de Germany y United Kingdom, para el caso de la zona Asiática son países que tienen cercanía unos con otros en el caso de Thailand, Bangladesh, Vietnam y Philippines a pesar de tratarse de una isla como en el caso de Japon."
   ]
  },
  {
   "cell_type": "markdown",
   "metadata": {},
   "source": [
    "Para conocer sobre de la densidad de población es inherente conocer los países con:\n",
    "* Mayor población \n",
    "* Mayor índice de crecimiento."
   ]
  },
  {
   "cell_type": "code",
   "execution_count": null,
   "metadata": {},
   "outputs": [],
   "source": [
    "%%sql\n",
    "SELECT name País_mayor_población, population Población\n",
    "  FROM facts\n",
    " WHERE population== (SELECT MAX(population)\n",
    "                     FROM facts\n",
    "                     WHERE name <> 'World');"
   ]
  },
  {
   "cell_type": "code",
   "execution_count": null,
   "metadata": {},
   "outputs": [],
   "source": [
    "%%sql\n",
    "SELECT name País_mayor_crecimiento_poblacional, population_growth Indice_crecimiento_pob\n",
    "  FROM facts\n",
    " WHERE population_growth== (SELECT MAX(population_growth)\n",
    "                     FROM facts\n",
    "                     WHERE name <> 'World');"
   ]
  },
  {
   "cell_type": "markdown",
   "metadata": {},
   "source": [
    "Observando que los países con mayor población y un mayor índice de crecimiento en el caso de China y South Sudan respectivamente, no se encuentran dentro del listado de los paises con mayor densidad poblacional, por lo que en estos países la distribución del territorio es mayor para la población que tienen."
   ]
  },
  {
   "cell_type": "markdown",
   "metadata": {},
   "source": [
    "## Territorio\n",
    "Tomando en cuenta las características del territorio surgen las siguientes preguntas:<br>\n",
    "* Cuales países tienen mayor porción de agua y de tierra?\n",
    "* Que países tiene superficies con mayor proporción de agua que tierra?"
   ]
  },
  {
   "cell_type": "code",
   "execution_count": null,
   "metadata": {},
   "outputs": [],
   "source": [
    "%%sql\n",
    "SELECT name País, area_water Superficie_marina\n",
    "  FROM facts\n",
    " WHERE area_water > (SELECT AVG(area_water)\n",
    "                     FROM facts\n",
    "                     WHERE name <> 'World')\n",
    "ORDER BY area_water DESC\n",
    "LIMIT 5;"
   ]
  },
  {
   "cell_type": "code",
   "execution_count": null,
   "metadata": {},
   "outputs": [],
   "source": [
    "%%sql\n",
    "SELECT name País, area_land Superficie_terrestre\n",
    "  FROM facts\n",
    " WHERE area_land> (SELECT AVG(area_land)\n",
    "                     FROM facts\n",
    "                     WHERE name <> 'World')\n",
    "ORDER BY area_land DESC\n",
    "LIMIT 5;"
   ]
  },
  {
   "cell_type": "markdown",
   "metadata": {},
   "source": [
    "Se observó que los 5 países con mayor área de agua y de tierra se encuentran en ambas listas en los casos de Rusia, China, United States y Canada, con excepción de los países de India y Brazil siendo que la India cuenta con un mayor área de territorio que Brasil y este mismo con una mayor área de agua que la India.  "
   ]
  },
  {
   "cell_type": "code",
   "execution_count": null,
   "metadata": {},
   "outputs": [],
   "source": [
    "%%sql\n",
    "SELECT name País, area_land Superficie_terrestre, area_water Superficie_marina\n",
    "  FROM facts\n",
    " WHERE area_water> area_land\n",
    " AND  name <> 'World';"
   ]
  },
  {
   "cell_type": "markdown",
   "metadata": {},
   "source": [
    "Aquellos países en que el área de agua es mayor al área de tierra son el caso de las Virgin Islands y de British Indian Ocean Territory el cual es un archipielago de acuerdo a la información proporcionada en el siguiente [Link](#https://www.cia.gov/library/publications/the-world-factbook/geos/io.html)"
   ]
  },
  {
   "cell_type": "markdown",
   "metadata": {},
   "source": [
    "## Demografía\n",
    "Se desea conocer las estadísticas sobre la población de los países y para esto se desea conocer: <br>\n",
    "* Que países tendrán más personas en su población el siguiente año?\n",
    "* Cuáles países tienen un índice de muerte mayor al índice de nacimiento?\n",
    "* Que países tienen el mayor índice de población/área?"
   ]
  },
  {
   "cell_type": "code",
   "execution_count": null,
   "metadata": {},
   "outputs": [],
   "source": [
    "%%sql\n",
    "SELECT COUNT(*) Paises_mayor_crecimiento_poblacional\n",
    "  FROM facts\n",
    " WHERE population*population_growth> (SELECT AVG(population*population_growth)\n",
    "                    FROM facts\n",
    "                    WHERE name <>'World') \n",
    " AND  name <> 'World';"
   ]
  },
  {
   "cell_type": "code",
   "execution_count": null,
   "metadata": {},
   "outputs": [],
   "source": [
    "%%sql\n",
    "SELECT name País, population Población, population_growth Indice_crecimiento, ROUND(population*population_growth) Crecimiento_poblacional\n",
    "  FROM facts\n",
    " WHERE Crecimiento_poblacional> (SELECT AVG(population*population_growth)\n",
    "                    FROM facts\n",
    "                    WHERE name <>'World') \n",
    " AND  name <> 'World'\n",
    " ORDER BY Crecimiento_poblacional DESC\n",
    " LIMIT 5;"
   ]
  },
  {
   "cell_type": "markdown",
   "metadata": {},
   "source": [
    "Los cinco países que trandrán un mayor crecimiento poblacional provienen de Asia son el caso de India, China, Pakistan y provinientes de Africa son Nigeria y Ethiopia."
   ]
  },
  {
   "cell_type": "code",
   "execution_count": null,
   "metadata": {},
   "outputs": [],
   "source": [
    "%%sql\n",
    "SELECT COUNT(*) 'Paises mayor mortalidad que natalidad' \n",
    "  FROM facts\n",
    " WHERE death_rate> birth_rate\n",
    " AND  name <> 'World';"
   ]
  },
  {
   "cell_type": "code",
   "execution_count": null,
   "metadata": {},
   "outputs": [],
   "source": [
    "%%sql\n",
    "SELECT name País, death_rate, birth_rate \n",
    "  FROM facts\n",
    " WHERE death_rate> birth_rate\n",
    " AND  name <> 'World'\n",
    "ORDER BY death_rate DESC;"
   ]
  },
  {
   "cell_type": "markdown",
   "metadata": {},
   "source": [
    "Se observó que la mayoría de los países en que el índice de mortalidad es mayor al índice de nacimientos son países Europeos con excepción de Japón proviniente del continente asiático."
   ]
  },
  {
   "cell_type": "code",
   "execution_count": null,
   "metadata": {},
   "outputs": [],
   "source": [
    "%%sql\n",
    "SELECT COUNT(*) Países_mayor_índice_densidad\n",
    "  FROM facts\n",
    " WHERE (population/area)> (SELECT AVG(population/area)\n",
    "                    FROM facts\n",
    "                    WHERE name <>'World') \n",
    " AND  name <> 'World';"
   ]
  },
  {
   "cell_type": "code",
   "execution_count": null,
   "metadata": {},
   "outputs": [],
   "source": [
    "%%sql\n",
    "SELECT name País, population/area AS \"Indice densidad Hab/Km\"\n",
    "  FROM facts\n",
    " WHERE \"Indice densidad Hab/Km\"> (SELECT AVG(population/area)\n",
    "                    FROM facts\n",
    "                    WHERE name <>'World') \n",
    " AND  name <> 'World'\n",
    " ORDER BY \"Indice densidad Hab/Km\" DESC\n",
    " LIMIT 5;"
   ]
  },
  {
   "cell_type": "markdown",
   "metadata": {},
   "source": [
    "Se obtuvo como resultado que la mayoría de los 5 países con mayor índice de densidad provienen del continente asiático(Macau, Singapore, Hong Kong, Gaza Strip) con exepción de Monaco que pertenece al continenete europeo. "
   ]
  },
  {
   "cell_type": "markdown",
   "metadata": {},
   "source": [
    "## Conclusión\n",
    "\n",
    "Con los diversos análisis obtenidos se muestra un crecimiento mayor crecimiento poblacional en los países del continente asiático junto con índices de densidad superiores al promedio sino de los más altos en el mundo a pesar de ser aquellos que cuentan con una extensión terriotorial mayor al promedio que a otros países. "
   ]
  }
 ],
 "metadata": {
  "kernelspec": {
   "display_name": "Python 3",
   "language": "python",
   "name": "python3"
  },
  "language_info": {
   "codemirror_mode": {
    "name": "ipython",
    "version": 3
   },
   "file_extension": ".py",
   "mimetype": "text/x-python",
   "name": "python",
   "nbconvert_exporter": "python",
   "pygments_lexer": "ipython3",
   "version": "3.7.6"
  }
 },
 "nbformat": 4,
 "nbformat_minor": 4
}
