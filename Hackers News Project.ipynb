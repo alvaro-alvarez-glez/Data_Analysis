{
 "cells": [
  {
   "attachments": {},
   "cell_type": "markdown",
   "metadata": {},
   "source": [
    "# **Post más populares de *Hackers News site***\n",
    "    \n",
    "El portal web [*Hacker News*](#https://news.ycombinator.com/) es una página donde los usuarios tienen permitido subir publicaciones conocidas como *posts*, los cuales reciben votos y comentarios de los demás usuarios. La página web es muy popular en los temas de tecnología y emprendurismo por lo que recibe cientos de miles de visitas como resultado.\n",
    "\n",
    "<img src=\"hacker_news.jpg\" width=\"800\" />"
   ]
  },
  {
   "cell_type": "markdown",
   "metadata": {},
   "source": [
    "La base de datos referente a las publicaciones realizadas en la página web se puede descargar del siguiente [link](#https://www.kaggle.com/hacker-news/hacker-news-posts), no ha sido reducida ni modificada. En seguida se describen las columnas que conforman a la base de datos.\n",
    "\n",
    "* id: Identificador único de Hacker News del post\n",
    "* title: Título del post\n",
    "* url: URL que that the posts links to, if it the post has a URL\n",
    "* num_points: Número de puntos que el post adquiere, calculado como el total de votos a favor menos el número de votos en contra\n",
    "* num_comments: Número de comentarios que ha obtenido el post\n",
    "* author: Usuario de la persona que publico el post\n",
    "* created_at: La fecha y hora en que fue publicado el post\n",
    "\n",
    "\n"
   ]
  },
  {
   "cell_type": "markdown",
   "metadata": {},
   "source": [
    "El principal interes es en los post cuyo titulo inician con *Ask HN* o *Show HN*. Los usuarios que publican posts *Ask HN* son utilizados para preguntar a los demás usuarios de Hacker News sobre temas especificos. \n",
    "\n",
    "\n",
    "<code>Ask HN: How to improve my personal website?\n",
    "Ask HN: Am I the only one outraged by Twitter shutting down share counts?\n",
    "Ask HN: Aby recent changes to CSS that broke mobile?\n",
    "</code>\n",
    "\n",
    "Así mismo, los usuarios que publican posts que inician con Show HN en la página, muestran a los demás usuarios un proyecto, producto o solamente para mostrar algo interesante.\n",
    "\n",
    "<code>Show HN: Wio Link  ESP8266 Based Web of Things Hardware Development Platform'\n",
    "Show HN: Something pointless I made\n",
    "Show HN: Shanhu.io, a programming playground powered by e8vm\n",
    "</code>    \n",
    "\n",
    "Se compararán estos dos tipos de posts para responder las siguientes preguntas:\n",
    "\n",
    "* Los post Ask HN recibe más comentarios en promedio que los post Show HN?<br>\n",
    "* Existen algunas horas en particular en que son recibidos una mayor cantidad de comentarios?"
   ]
  },
  {
   "cell_type": "code",
   "execution_count": 2,
   "metadata": {},
   "outputs": [],
   "source": [
    "#Se carga la paquetería e información de la BD\n",
    "from csv import reader     \n",
    "open_file=open('C:/Users/Alvaro Alvarez/Documents/Dataquest/HN_posts_year_to_Sep_26_2016.csv',encoding=\"utf8\")\n",
    "read_file=reader(open_file)\n",
    "hn= list(read_file)"
   ]
  },
  {
   "cell_type": "code",
   "execution_count": 3,
   "metadata": {},
   "outputs": [
    {
     "name": "stdout",
     "output_type": "stream",
     "text": [
      "['id', 'title', 'url', 'num_points', 'num_comments', 'author', 'created_at']\n",
      "\n",
      "\n",
      "[['12579008', 'You have two days to comment if you want stem cells to be classified as your own', 'http://www.regulations.gov/document?D=FDA-2015-D-3719-0018', '1', '0', 'altstar', '9/26/2016 3:26'], ['12579005', 'SQLAR  the SQLite Archiver', 'https://www.sqlite.org/sqlar/doc/trunk/README.md', '1', '0', 'blacksqr', '9/26/2016 3:24'], ['12578997', 'What if we just printed a flatscreen television on the side of our boxes?', 'https://medium.com/vanmoof/our-secrets-out-f21c1f03fdc8#.ietxmez43', '1', '0', 'pavel_lishin', '9/26/2016 3:19'], ['12578989', 'algorithmic music', 'http://cacm.acm.org/magazines/2011/7/109891-algorithmic-composition/fulltext', '1', '0', 'poindontcare', '9/26/2016 3:16']]\n"
     ]
    }
   ],
   "source": [
    "#Se asigna una variable con los títulos de las columnas \n",
    "headers=hn[0] \n",
    "\n",
    "#Se retira la fila con los títulos de las columnas\n",
    "hn=hn[1:]     \n",
    "print(headers)\n",
    "print('\\n')\n",
    "print(hn[:4])"
   ]
  },
  {
   "cell_type": "markdown",
   "metadata": {},
   "source": [
    "Los post de interés que inician sus títulos con *Ask HN* y *Show HN* se analizaran en listas separadas que tengan la información de estos dos títulos."
   ]
  },
  {
   "cell_type": "code",
   "execution_count": 4,
   "metadata": {},
   "outputs": [
    {
     "name": "stdout",
     "output_type": "stream",
     "text": [
      "Numero de posts en Ask Hn: 9139\n",
      "\n",
      "\n",
      "[['12578908', 'Ask HN: What TLD do you use for local development?', '', '4', '7', 'Sevrene', '9/26/2016 2:53'], ['12578522', 'Ask HN: How do you pass on your work when you die?', '', '6', '3', 'PascLeRasc', '9/26/2016 1:17'], ['12577908', 'Ask HN: How a DNS problem can be limited to a geographic region?', '', '1', '0', 'kuon', '9/25/2016 22:57']]\n",
      "\n",
      "\n",
      "Numero de posts en Show Hn: 10158\n",
      "\n",
      "\n",
      "[['12578335', 'Show HN: Finding puns computationally', 'http://puns.samueltaylor.org/', '2', '0', 'saamm', '9/26/2016 0:36'], ['12578182', 'Show HN: A simple library for complicated animations', 'https://christinecha.github.io/choreographer-js/', '1', '0', 'christinecha', '9/26/2016 0:01'], ['12578098', 'Show HN: WebGL visualization of DNA sequences', 'http://grondilu.github.io/dna.html', '1', '0', 'grondilu', '9/25/2016 23:44']]\n",
      "\n",
      "\n",
      "Numero de posts en Other post: 273822\n",
      "\n",
      "\n",
      "[['12579008', 'You have two days to comment if you want stem cells to be classified as your own', 'http://www.regulations.gov/document?D=FDA-2015-D-3719-0018', '1', '0', 'altstar', '9/26/2016 3:26'], ['12579005', 'SQLAR  the SQLite Archiver', 'https://www.sqlite.org/sqlar/doc/trunk/README.md', '1', '0', 'blacksqr', '9/26/2016 3:24'], ['12578997', 'What if we just printed a flatscreen television on the side of our boxes?', 'https://medium.com/vanmoof/our-secrets-out-f21c1f03fdc8#.ietxmez43', '1', '0', 'pavel_lishin', '9/26/2016 3:19']]\n"
     ]
    }
   ],
   "source": [
    "#Se crean las listas que almacenará los posts Ask HN, Show HN y Otros post\n",
    "ask_posts=[]         \n",
    "show_posts=[]        \n",
    "other_posts=[]       \n",
    "\n",
    "#Separar las publicaciones que inician con \"Ask Hn\",\"Show Hn\" y \"Otras\"\n",
    "for row in hn:       \n",
    "    title=row[1]\n",
    "    if title.lower().startswith(\"ask hn\"):    #Identifica y anexa los posts Ask HN a la nueva lista\n",
    "        ask_posts.append(row)\n",
    "    elif title.lower().startswith(\"show hn\"): #Identifica y anexa los posts Show HN a la nueva lista  \n",
    "        show_posts.append(row)\n",
    "    else:\n",
    "        other_posts.append(row)               #Anexa los posts distintos a Ask HN y Show HN a una lista aparte\n",
    "        \n",
    "print(\"Numero de posts en Ask Hn:\",len(ask_posts)) \n",
    "print('\\n')\n",
    "print(ask_posts[:3])\n",
    "print('\\n')\n",
    "print(\"Numero de posts en Show Hn:\",len(show_posts))\n",
    "print('\\n')\n",
    "print(show_posts[:3])\n",
    "print('\\n')\n",
    "print(\"Numero de posts en Other post:\",len(other_posts))\n",
    "print('\\n')\n",
    "print(other_posts[:3])"
   ]
  },
  {
   "cell_type": "markdown",
   "metadata": {},
   "source": [
    "## Comentarios promedios en posts\n",
    "\n",
    "Separados los post en listas distintas se procedió a analizar el número de comentarios para ambos tipo de post y calcular el promedio de comentarios por cada tipo de posts."
   ]
  },
  {
   "cell_type": "code",
   "execution_count": 5,
   "metadata": {},
   "outputs": [
    {
     "name": "stdout",
     "output_type": "stream",
     "text": [
      "Total comentarios en publicaciones Ask Hn: 94986\n",
      "Promedio de comentarios en publicaciones Ask Hn:  10\n",
      "Total comentarios en publicaciones Show Hn: 49633\n",
      "Promedio de comentarios en publicaciones Show Hn:  4\n"
     ]
    }
   ],
   "source": [
    "#Calculo del total de comentarios en las publicaciones de \"Ask Hn\"\n",
    "total_ask_comments=0 \n",
    "for row in ask_posts:       \n",
    "    num_comments=row[4]\n",
    "    num_comments=int(num_comments)\n",
    "    total_ask_comments+= num_comments\n",
    "\n",
    "#Calculo del promedio de comentarios en publicaciones de \"Ask Hn\"\n",
    "avg_ask_comments=total_ask_comments/len(ask_posts)   \n",
    "print(\"Total comentarios en publicaciones Ask Hn:\",total_ask_comments)\n",
    "print('Promedio de comentarios en publicaciones Ask Hn: ',int(avg_ask_comments))\n",
    "\n",
    "#Calculo del total de comentarios en las publicaciones de \"Show Hn\"\n",
    "total_show_comments=0\n",
    "for row in show_posts:       \n",
    "    num_comments=row[4]\n",
    "    num_comments=int(num_comments)\n",
    "    total_show_comments+= num_comments\n",
    "\n",
    "#Calculo del promedio de comentarios en publicaciones de \"Show Hn\"    \n",
    "avg_show_comments=total_show_comments/len(show_posts)   \n",
    "print(\"Total comentarios en publicaciones Show Hn:\",total_show_comments)\n",
    "print('Promedio de comentarios en publicaciones Show Hn: ',int(avg_show_comments))"
   ]
  },
  {
   "cell_type": "markdown",
   "metadata": {},
   "source": [
    "Los posts con mayor cantidad de comentarios fueron los que inician con *Ask Hn*, teniendo cerca del doble de comentarios que los post que inician con *Show Hn*. Igualmente se tuvó como resultado que los post *Ask Hn* reciben una mayor cantidad de comentarios en promedio que los post *Show Hn*.\n",
    "Por lo que valdrá la pena analizar el comportamiento de los comentarios en los post *Ask Hn* durante las diferentes horas en que son publicados."
   ]
  },
  {
   "cell_type": "markdown",
   "metadata": {},
   "source": [
    "## Momentos con mayor comentarios"
   ]
  },
  {
   "cell_type": "markdown",
   "metadata": {},
   "source": [
    "En seguida se determinará a que hora es más probable de recibir comentarios. Para lo que se calculará:\n",
    "\n",
    "* Hora del día en que se publican mayor cantidad de posts\n",
    "* Hora en que se reciben mayor cantidad de comentarios por post\n",
    "* El promedio de comentarios recibidos por post a lo largo del día"
   ]
  },
  {
   "cell_type": "code",
   "execution_count": 6,
   "metadata": {},
   "outputs": [
    {
     "name": "stdout",
     "output_type": "stream",
     "text": [
      "Número de posts por hora: {'02': 269, '01': 282, '22': 383, '21': 518, '19': 552, '17': 587, '15': 646, '14': 513, '13': 444, '11': 312, '10': 282, '09': 222, '07': 226, '03': 271, '23': 343, '20': 510, '16': 579, '08': 257, '00': 301, '18': 614, '12': 342, '04': 243, '06': 234, '05': 209}\n",
      "\n",
      "\n",
      "Total de comentarios por hora: {'02': 2996, '01': 2089, '22': 3372, '21': 4500, '19': 3954, '17': 5547, '15': 18525, '14': 4972, '13': 7245, '11': 2797, '10': 3013, '09': 1477, '07': 1585, '03': 2154, '23': 2297, '20': 4462, '16': 4466, '08': 2362, '00': 2277, '18': 4877, '12': 4234, '04': 2360, '06': 1587, '05': 1838}\n"
     ]
    }
   ],
   "source": [
    "#Se importa modulo para trabajar con la columna de la hora en que se publican los posts\n",
    "import datetime as dt \n",
    "\n",
    "#Separa en una lista aparte los valores de la hora de publicación y el número de comentarios para los análisis posteriores\n",
    "result_list=[]\n",
    "for row in ask_posts:       \n",
    "    hora_creacion=row[6]\n",
    "    comentarios=int(row[4])\n",
    "    reg=[hora_creacion,comentarios]  \n",
    "    result_list.append(reg)          #Son incertados los valores de interes en la nueva lista\n",
    "\n",
    "#Se calcula y almacena el número de post por hora y la cantidad de comentarios por hora en diccionarios\n",
    "counts_by_hour={}\n",
    "comments_by_hour={}\n",
    "for row in result_list:     \n",
    "    fecha=row[0]\n",
    "    comment=row[1]\n",
    "    dt_object=dt.datetime.strptime(fecha,\"%m/%d/%Y %H:%M\")  #Se establece como objeto del tipo tiempo a la hora de la publicación\n",
    "    dt_string=dt.datetime.strftime(dt_object,\"%H\")           \n",
    "    \n",
    "    if dt_string not in counts_by_hour: #Se contabilizan los posts y comentarios por hora en diccionarios diferentes\n",
    "        counts_by_hour[dt_string]=1\n",
    "        comments_by_hour[dt_string]=comment\n",
    "    else:\n",
    "        counts_by_hour[dt_string]+=1\n",
    "        comments_by_hour[dt_string]+=comment\n",
    "\n",
    "\n",
    "      \n",
    "print(\"Número de posts por hora:\",counts_by_hour)\n",
    "print(\"\\n\")\n",
    "print(\"Total de comentarios por hora:\",comments_by_hour)"
   ]
  },
  {
   "cell_type": "code",
   "execution_count": 7,
   "metadata": {},
   "outputs": [
    {
     "name": "stdout",
     "output_type": "stream",
     "text": [
      "[['02', 11.137546468401487], ['01', 7.407801418439717], ['22', 8.804177545691905], ['21', 8.687258687258687], ['19', 7.163043478260869], ['17', 9.449744463373083], ['15', 28.676470588235293], ['14', 9.692007797270955], ['13', 16.31756756756757], ['11', 8.96474358974359], ['10', 10.684397163120567], ['09', 6.653153153153153], ['07', 7.013274336283186], ['03', 7.948339483394834], ['23', 6.696793002915452], ['20', 8.749019607843136], ['16', 7.713298791018998], ['08', 9.190661478599221], ['00', 7.5647840531561465], ['18', 7.94299674267101], ['12', 12.380116959064328], ['04', 9.7119341563786], ['06', 6.782051282051282], ['05', 8.794258373205741]]\n"
     ]
    }
   ],
   "source": [
    "#Se calcula el promedio de comentarios por post publicado a cada hora en lista aparte\n",
    "avg_by_hour=[]\n",
    "for hour in comments_by_hour:   \n",
    "    avg_by_hour.append([hour,comments_by_hour[hour]/counts_by_hour[hour]])\n",
    "\n",
    "print(avg_by_hour)"
   ]
  },
  {
   "cell_type": "markdown",
   "metadata": {},
   "source": [
    "Se procedió a organizar de una manera más clara las cinco horas con mayor cantidad de comentarios recibidos por post."
   ]
  },
  {
   "cell_type": "code",
   "execution_count": 8,
   "metadata": {},
   "outputs": [
    {
     "name": "stdout",
     "output_type": "stream",
     "text": [
      "\n",
      "\n",
      "Top 5 Hours for Ask Posts Comments\n",
      "15:00: 28.68 average comments per post\n",
      "13:00: 16.32 average comments per post\n",
      "12:00: 12.38 average comments per post\n",
      "02:00: 11.14 average comments per post\n",
      "10:00: 10.68 average comments per post\n"
     ]
    }
   ],
   "source": [
    "#Se copian los valores de los comentarios promedios de posts por hora en una nueva lista para hacer la ordenación\n",
    "swap_avg_by_hour=[]\n",
    "for row in avg_by_hour:\n",
    "    swap_avg_by_hour.append([row[1],row[0]])\n",
    "    \n",
    "#Se ordenan de mayor a menor los valores del promedio de comentarios por post\n",
    "sorted_swap=sorted(swap_avg_by_hour,reverse=True)\n",
    "\n",
    "print('Top 5 Hours for Ask Posts Comments')\n",
    "#Se da el formato deseado para presentar la información de las cinco horas con mayor promedio de comentarios por post\n",
    "for row in sorted_swap[:5]:\n",
    "    hora=dt.datetime.strptime(row[1],\"%H\")\n",
    "    hora=dt.datetime.strftime(hora,\"%H:%M\")\n",
    "    promedio_comentario=row[0]\n",
    "    resultado='{}: {:.2f} average comments per post'.format(hora,promedio_comentario)\n",
    "    print(resultado)\n"
   ]
  },
  {
   "cell_type": "markdown",
   "metadata": {},
   "source": [
    "## Conclusión\n",
    "\n",
    "Se halló que las horas en que el promedio de post *Ask Hn* reciban más comentarios es a la 15 hrs seguido de las 13 hrs junto con la del medio día siendo esto un rango de horas muy próximas para realizar este tipo posts con excepción de las 02 hrs por la mañana, un horario fuera del rango de horas en que los post *Ask Hn* reciben mayor cantidad de comentarios.\n"
   ]
  }
 ],
 "metadata": {
  "kernelspec": {
   "display_name": "Python 3",
   "language": "python",
   "name": "python3"
  },
  "language_info": {
   "codemirror_mode": {
    "name": "ipython",
    "version": 3
   },
   "file_extension": ".py",
   "mimetype": "text/x-python",
   "name": "python",
   "nbconvert_exporter": "python",
   "pygments_lexer": "ipython3",
   "version": "3.7.6"
  }
 },
 "nbformat": 4,
 "nbformat_minor": 4
}
